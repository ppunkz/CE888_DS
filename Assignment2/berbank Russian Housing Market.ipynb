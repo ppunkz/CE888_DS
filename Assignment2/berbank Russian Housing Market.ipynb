{
  "nbformat": 4,
  "nbformat_minor": 0,
  "metadata": {
    "colab": {
      "name": "Untitled20.ipynb",
      "provenance": [],
      "authorship_tag": "ABX9TyO92Xif7n2FuP8pLzxA/K6d",
      "include_colab_link": true
    },
    "kernelspec": {
      "name": "python3",
      "display_name": "Python 3"
    }
  },
  "cells": [
    {
      "cell_type": "markdown",
      "metadata": {
        "id": "view-in-github",
        "colab_type": "text"
      },
      "source": [
        "<a href=\"https://colab.research.google.com/github/ppunkz/CE888_DS/blob/master/Assignment2/berbank%20Russian%20Housing%20Market.ipynb\" target=\"_parent\"><img src=\"https://colab.research.google.com/assets/colab-badge.svg\" alt=\"Open In Colab\"/></a>"
      ]
    },
    {
      "cell_type": "code",
      "metadata": {
        "id": "1g-6zzw426U-",
        "colab_type": "code",
        "colab": {}
      },
      "source": [
        "import pandas as pd\n",
        "import numpy as np\n",
        "from sklearn.preprocessing import LabelEncoder\n",
        "from sklearn.ensemble import RandomForestClassifier, RandomForestRegressor\n",
        "from sklearn.model_selection import cross_val_score"
      ],
      "execution_count": 0,
      "outputs": []
    },
    {
      "cell_type": "code",
      "metadata": {
        "id": "jUz0bPD-4N-c",
        "colab_type": "code",
        "colab": {}
      },
      "source": [
        "#import train and test data\n",
        "train = pd.read_csv('train.csv')\n",
        "test = pd.read_csv('test.csv')"
      ],
      "execution_count": 0,
      "outputs": []
    },
    {
      "cell_type": "code",
      "metadata": {
        "id": "1l6CJS1e4aTM",
        "colab_type": "code",
        "colab": {}
      },
      "source": [
        "## Handling missing values\n",
        "for i in train.columns:\n",
        "    if train[i].dtype == 'object':\n",
        "      train[i] = train[i].fillna(train[i].mode().iloc[0])\n",
        "    if (train[i].dtype == 'int' or train[i].dtype == 'float'):\n",
        "      train[i] = train[i].fillna(np.mean(train[i]))\n",
        "\n",
        "for i in test.columns:\n",
        "    if test[i].dtype == 'object':\n",
        "      test[i] = test[i].fillna(test[i].mode().iloc[0])\n",
        "    if (test[i].dtype == 'int' or test[i].dtype == 'float'):\n",
        "      test[i] = test[i].fillna(np.mean(test[i]))"
      ],
      "execution_count": 0,
      "outputs": []
    },
    {
      "cell_type": "code",
      "metadata": {
        "id": "NuYXgeC64a5W",
        "colab_type": "code",
        "colab": {}
      },
      "source": [
        "## Label encoding\n",
        "number = LabelEncoder()\n",
        "for i in train.columns:\n",
        "    if (train[i].dtype == 'object'):\n",
        "      train[i] = number.fit_transform(train[i].astype('str'))\n",
        "      train[i] = train[i].astype('object')\n",
        "\n",
        "for i in test.columns:\n",
        "    if (test[i].dtype == 'object'):\n",
        "      test[i] = number.fit_transform(test[i].astype('str'))\n",
        "      test[i] = test[i].astype('object')"
      ],
      "execution_count": 0,
      "outputs": []
    },
    {
      "cell_type": "code",
      "metadata": {
        "id": "Ak6Zrdl-4toP",
        "colab_type": "code",
        "colab": {}
      },
      "source": [
        "# Creating a new feature origin\n",
        "train['origin'] = 0\n",
        "test['origin'] = 1\n",
        "training = train.drop('price_doc',axis=1) #droping target variable"
      ],
      "execution_count": 0,
      "outputs": []
    },
    {
      "cell_type": "code",
      "metadata": {
        "id": "MWVlVQn94uVK",
        "colab_type": "code",
        "colab": {}
      },
      "source": [
        "## Taking sample from training and test data\n",
        "training = training.sample(10000, random_state=12)\n",
        "testing = test.sample(7000, random_state=11)"
      ],
      "execution_count": 0,
      "outputs": []
    },
    {
      "cell_type": "code",
      "metadata": {
        "id": "g33-a0WU4wuR",
        "colab_type": "code",
        "colab": {}
      },
      "source": [
        "## Combining random samples\n",
        "combine = training.append(testing)\n",
        "y = combine['origin']\n",
        "combine.drop('origin',axis=1,inplace=True)"
      ],
      "execution_count": 0,
      "outputs": []
    },
    {
      "cell_type": "code",
      "metadata": {
        "id": "XFAGl81Q4xBk",
        "colab_type": "code",
        "outputId": "0bdc1fbe-845f-4a68-e021-629f05640d96",
        "colab": {
          "base_uri": "https://localhost:8080/",
          "height": 235
        }
      },
      "source": [
        "## Modelling\n",
        "model = RandomForestClassifier(n_estimators = 50, max_depth = 5,min_samples_leaf = 5)\n",
        "drop_list = []\n",
        "for i in combine.columns:\n",
        "    score = cross_val_score(model,pd.DataFrame(combine[i]),y,cv=2,scoring='roc_auc')\n",
        "    if (np.mean(score) > 0.8):\n",
        "        drop_list.append(i)\n",
        "        print(i,np.mean(score))"
      ],
      "execution_count": 0,
      "outputs": [
        {
          "output_type": "stream",
          "text": [
            "id 1.0\n",
            "timestamp 0.9144045285714286\n",
            "life_sq 0.8455408285714286\n",
            "max_floor 0.8680095571428572\n",
            "material 0.8547409428571429\n",
            "build_year 0.9152398857142856\n",
            "num_room 0.8464369142857142\n",
            "kitch_sq 0.9581987714285713\n",
            "state 0.9094977714285715\n",
            "hospital_beds_raion 0.8905239428571428\n",
            "cafe_sum_500_min_price_avg 0.8579184142857144\n",
            "cafe_sum_500_max_price_avg 0.8547958\n",
            "cafe_avg_price_500 0.8563095857142857\n"
          ],
          "name": "stdout"
        }
      ]
    },
    {
      "cell_type": "code",
      "metadata": {
        "id": "xTFpjiST5rsM",
        "colab_type": "code",
        "outputId": "62be4b5a-1334-488c-fde2-86714c9bfd09",
        "colab": {
          "base_uri": "https://localhost:8080/",
          "height": 235
        }
      },
      "source": [
        "# List   of   drifting   features \n",
        "drop_list"
      ],
      "execution_count": 0,
      "outputs": [
        {
          "output_type": "execute_result",
          "data": {
            "text/plain": [
              "['id',\n",
              " 'timestamp',\n",
              " 'life_sq',\n",
              " 'max_floor',\n",
              " 'material',\n",
              " 'build_year',\n",
              " 'num_room',\n",
              " 'kitch_sq',\n",
              " 'state',\n",
              " 'hospital_beds_raion',\n",
              " 'cafe_sum_500_min_price_avg',\n",
              " 'cafe_sum_500_max_price_avg',\n",
              " 'cafe_avg_price_500']"
            ]
          },
          "metadata": {
            "tags": []
          },
          "execution_count": 9
        }
      ]
    },
    {
      "cell_type": "code",
      "metadata": {
        "id": "IK1nmCLa4y8S",
        "colab_type": "code",
        "colab": {}
      },
      "source": [
        "# Dropping the origin with all the features\n",
        "training = train.drop('origin',axis=1)\n",
        "testing = test.drop('origin',axis=1)\n",
        "# Using a basic random forest model with all the features\n",
        "rf = RandomForestRegressor(n_estimators=200, max_depth=6,max_features=10)\n",
        "rf.fit(training.drop('price_doc',axis=1),training['price_doc'])\n",
        "pred = rf.predict(testing)\n",
        "rms = sqrt(mean_squared_error(testing['price_doc'],pred))\n",
        "print(rms)"
      ],
      "execution_count": 0,
      "outputs": []
    },
    {
      "cell_type": "code",
      "metadata": {
        "id": "w5eVbOpTeJW9",
        "colab_type": "code",
        "outputId": "3abbe5f2-7331-4b1a-bcab-9cd69d7efa1e",
        "colab": {
          "base_uri": "https://localhost:8080/",
          "height": 455
        }
      },
      "source": [
        "# plotting importances\n",
        "import matplotlib.pyplot as plt\n",
        "features = training.drop('price_doc',axis=1).columns.values\n",
        "imp = rf.feature_importances_\n",
        "indices = np.argsort(imp)[::-1][:20]\n",
        "#plot\n",
        "plt.figure(figsize=(8,5))\n",
        "plt.bar(range(len(indices)), imp[indices], color = 'b', align='center')\n",
        "plt.xticks(range(len(indices)), features[indices], rotation='vertical')\n",
        "plt.xlim([-1,len(indices)])\n",
        "plt.show()"
      ],
      "execution_count": 0,
      "outputs": [
        {
          "output_type": "display_data",
          "data": {
            "image/png": "[encoded data removed]",
            "text/plain": [
              "<Figure size 576x360 with 1 Axes>"
            ]
          },
          "metadata": {
            "tags": []
          }
        }
      ]
    },
    {
      "cell_type": "code",
      "metadata": {
        "id": "ux4vu3Reeoqg",
        "colab_type": "code",
        "outputId": "0206df4d-edc5-412e-df5f-46f7bdf2d7d1",
        "colab": {
          "base_uri": "https://localhost:8080/",
          "height": 235
        }
      },
      "source": [
        "drop_list"
      ],
      "execution_count": 0,
      "outputs": [
        {
          "output_type": "execute_result",
          "data": {
            "text/plain": [
              "['id',\n",
              " 'timestamp',\n",
              " 'life_sq',\n",
              " 'max_floor',\n",
              " 'material',\n",
              " 'build_year',\n",
              " 'num_room',\n",
              " 'kitch_sq',\n",
              " 'state',\n",
              " 'hospital_beds_raion',\n",
              " 'cafe_sum_500_min_price_avg',\n",
              " 'cafe_sum_500_max_price_avg',\n",
              " 'cafe_avg_price_500']"
            ]
          },
          "metadata": {
            "tags": []
          },
          "execution_count": 16
        }
      ]
    },
    {
      "cell_type": "code",
      "metadata": {
        "id": "K74rzRnRfVOZ",
        "colab_type": "code",
        "colab": {}
      },
      "source": [
        "# dropping drifting features which are not important.\n",
        "drift_train = training.drop(['id','hospital_beds_raion','cafe_sum_500_min_price_avg','cafe_sum_500_max_price_avg','cafe_avg_price_500'], axis=1)\n",
        "drift_test = testing.drop(['id','hospital_beds_raion','cafe_sum_500_min_price_avg','cafe_sum_500_max_price_avg','cafe_avg_price_500'], axis=1)\n",
        "rf = RandomForestRegressor(n_estimators=200, max_depth=6,max_features=10)\n",
        "rf.fit(drift_train.drop('price_doc',axis=1),training['price_doc'])\n",
        "pred = rf.predict(drift_test)\n",
        "rms = sqrt(mean_squared_error(drift_test['price_doc'],pred))\n",
        "print(rms)"
      ],
      "execution_count": 0,
      "outputs": []
    },
    {
      "cell_type": "code",
      "metadata": {
        "id": "kL2vmxeSfYs1",
        "colab_type": "code",
        "colab": {}
      },
      "source": [
        ""
      ],
      "execution_count": 0,
      "outputs": []
    }
  ]
}