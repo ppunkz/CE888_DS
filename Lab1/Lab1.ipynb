{
  "nbformat": 4,
  "nbformat_minor": 0,
  "metadata": {
    "colab": {
      "name": "Untitled9.ipynb",
      "provenance": [],
      "authorship_tag": "ABX9TyOdJGFvZeyc8ycgo89roq6X",
      "include_colab_link": true
    },
    "kernelspec": {
      "name": "python3",
      "display_name": "Python 3"
    }
  },
  "cells": [
    {
      "cell_type": "markdown",
      "metadata": {
        "id": "view-in-github",
        "colab_type": "text"
      },
      "source": [
        "<a href=\"https://colab.research.google.com/github/ppunkz/CE888_DS/blob/master/Lab1/Lab1.ipynb\" target=\"_parent\"><img src=\"https://colab.research.google.com/assets/colab-badge.svg\" alt=\"Open In Colab\"/></a>"
      ]
    },
    {
      "cell_type": "markdown",
      "metadata": {
        "id": "iaN_XcSk4QNB",
        "colab_type": "text"
      },
      "source": [
        "#Questions to be done during the lab:"
      ]
    },
    {
      "cell_type": "markdown",
      "metadata": {
        "id": "0dco3CT44dfS",
        "colab_type": "text"
      },
      "source": [
        "### 1.Create a (4 x 2) integer array and print it's attributes\n"
      ]
    },
    {
      "cell_type": "code",
      "metadata": {
        "id": "3vO4n-gj1Kw4",
        "colab_type": "code",
        "colab": {
          "base_uri": "https://localhost:8080/",
          "height": 85
        },
        "outputId": "c93a312a-f7f5-4b79-87da-a3989d6f26db"
      },
      "source": [
        "import numpy as np\n",
        "a = np.array([[1,2],[3,4],[5,6],[7,8]])\n",
        "print(a)"
      ],
      "execution_count": 3,
      "outputs": [
        {
          "output_type": "stream",
          "text": [
            "[[1 2]\n",
            " [3 4]\n",
            " [5 6]\n",
            " [7 8]]\n"
          ],
          "name": "stdout"
        }
      ]
    },
    {
      "cell_type": "markdown",
      "metadata": {
        "id": "pfAht5h14O5i",
        "colab_type": "text"
      },
      "source": [
        "### 2.Create an array of dimension (1,10) and sort it in ascending and descending order\n"
      ]
    },
    {
      "cell_type": "code",
      "metadata": {
        "id": "kWJ7LseQ3UPd",
        "colab_type": "code",
        "colab": {
          "base_uri": "https://localhost:8080/",
          "height": 85
        },
        "outputId": "6924bb4f-acc5-4ba8-e341-606844264b70"
      },
      "source": [
        "b = np.random.randint(1,10,10)\n",
        "b = np.sort(b)\n",
        "c = np.sort(b)[::-1]\n",
        "print('ascending number')\n",
        "print(b)\n",
        "print('descending number')\n",
        "print(c)"
      ],
      "execution_count": 37,
      "outputs": [
        {
          "output_type": "stream",
          "text": [
            "ascending number\n",
            "[1 3 4 4 6 6 7 7 7 8]\n",
            "descending number\n",
            "[8 7 7 7 6 6 4 4 3 1]\n"
          ],
          "name": "stdout"
        }
      ]
    },
    {
      "cell_type": "markdown",
      "metadata": {
        "id": "yya95pSB4_i1",
        "colab_type": "text"
      },
      "source": [
        "### 3. Convert an 1D array [1 2 3 4 5 6 7 8 9] to 2D array [[1 2 3], [4 5 6], [7 8 9]]"
      ]
    },
    {
      "cell_type": "code",
      "metadata": {
        "id": "o0zdopsJ4-ol",
        "colab_type": "code",
        "colab": {
          "base_uri": "https://localhost:8080/",
          "height": 85
        },
        "outputId": "846f6afe-0446-486e-b42c-6700c6686d09"
      },
      "source": [
        "d = np.arange(1,10).reshape((3,3))\n",
        "\n",
        "print('2D array:','\\n',d)\n"
      ],
      "execution_count": 43,
      "outputs": [
        {
          "output_type": "stream",
          "text": [
            "2D array: \n",
            " [[1 2 3]\n",
            " [4 5 6]\n",
            " [7 8 9]]\n"
          ],
          "name": "stdout"
        }
      ]
    },
    {
      "cell_type": "markdown",
      "metadata": {
        "id": "eEa4EhJX6d9R",
        "colab_type": "text"
      },
      "source": [
        "### 4.Stack two arrays of any size horizontally and vertically"
      ]
    },
    {
      "cell_type": "code",
      "metadata": {
        "id": "cQjNuInV6hSH",
        "colab_type": "code",
        "colab": {
          "base_uri": "https://localhost:8080/",
          "height": 170
        },
        "outputId": "3da3bde5-45a8-4da2-bb09-da4afdacb1e1"
      },
      "source": [
        "x = np.random.randint(1,10,5)\n",
        "y = np.random.randint(1,10,5)\n",
        "xy = np.stack((x,y), axis =0)\n",
        "print('horizontal stack','\\n', xy)\n",
        "xy1 = np.stack((x,y), axis=1)\n",
        "print('vertical stack','\\n', xy1)"
      ],
      "execution_count": 105,
      "outputs": [
        {
          "output_type": "stream",
          "text": [
            "horizontal stack \n",
            " [[8 9 1 8 7]\n",
            " [2 3 6 7 5]]\n",
            "vertical stack \n",
            " [[8 2]\n",
            " [9 3]\n",
            " [1 6]\n",
            " [8 7]\n",
            " [7 5]]\n"
          ],
          "name": "stdout"
        }
      ]
    },
    {
      "cell_type": "markdown",
      "metadata": {
        "id": "OIgzXTq49sSZ",
        "colab_type": "text"
      },
      "source": [
        "### 5. Create two array of same size and find commom elements"
      ]
    },
    {
      "cell_type": "code",
      "metadata": {
        "id": "ylOKG5X79u63",
        "colab_type": "code",
        "colab": {
          "base_uri": "https://localhost:8080/",
          "height": 51
        },
        "outputId": "4333afd6-2e67-454d-ce32-3f0fc7f6946a"
      },
      "source": [
        "def common_member(x, y):\n",
        "  x_set = set(x)\n",
        "  y_set = set(y)\n",
        "  if len(x_set.intersection(y_set)) > 0:\n",
        "      return(x_set.intersection(y_set))\n",
        "  else:\n",
        "      return(\"no common elements\")\n",
        "\n",
        "x = np.arange(1,10)\n",
        "y = np.arange(5,16)\n",
        "print('common elements of x and y variables:','\\n',common_member(x, y))"
      ],
      "execution_count": 68,
      "outputs": [
        {
          "output_type": "stream",
          "text": [
            "common elements of x and y variables: \n",
            " {5, 6, 7, 8, 9}\n"
          ],
          "name": "stdout"
        }
      ]
    },
    {
      "cell_type": "markdown",
      "metadata": {
        "id": "WMFDQR5lAc8k",
        "colab_type": "text"
      },
      "source": [
        "### 6. Create a 2D array of 5 by 5 and find the min and max values from each row and each column"
      ]
    },
    {
      "cell_type": "code",
      "metadata": {
        "id": "Pf_MrGjTAfOb",
        "colab_type": "code",
        "colab": {
          "base_uri": "https://localhost:8080/",
          "height": 255
        },
        "outputId": "704fa212-3967-4b3c-fd93-eea6ad91bd36"
      },
      "source": [
        "ff = np.random.randint(1,25,25).reshape((5,5))\n",
        "print('array of 5 by 5:', '\\n',ff)\n",
        "max_row = np.amax(ff, axis=0)\n",
        "min_row = np.amin(ff, axis=0)\n",
        "print('max values from each row:','\\n',max_row)\n",
        "print('min values from each row:','\\n',min_row)\n",
        "max_col = np.amax(ff, axis=1)\n",
        "min_col = np.amin(ff, axis=1)\n",
        "print('max values from each row:','\\n',max_col)\n",
        "print('min values from each row:','\\n',min_col)"
      ],
      "execution_count": 78,
      "outputs": [
        {
          "output_type": "stream",
          "text": [
            "array of 5 by 5: \n",
            " [[21  5 18  8 23]\n",
            " [14 15  5 22 19]\n",
            " [ 1  9  6 16 12]\n",
            " [10  2  2  6 19]\n",
            " [15  6 16  1 21]]\n",
            "max values from each row: \n",
            " [21 15 18 22 23]\n",
            "min values from each row: \n",
            " [ 1  2  2  1 12]\n",
            "max values from each row: \n",
            " [23 22 16 19 21]\n",
            "min values from each row: \n",
            " [5 5 1 2 1]\n"
          ],
          "name": "stdout"
        }
      ]
    },
    {
      "cell_type": "markdown",
      "metadata": {
        "id": "EiP_pgWPC8en",
        "colab_type": "text"
      },
      "source": [
        "### 7. Create an array of size 100 and compute the mean, median, standard deviation."
      ]
    },
    {
      "cell_type": "code",
      "metadata": {
        "id": "McdPE-gxC_d9",
        "colab_type": "code",
        "colab": {
          "base_uri": "https://localhost:8080/",
          "height": 119
        },
        "outputId": "b1adfc54-2c8d-42ec-d03e-752475a30aa6"
      },
      "source": [
        "x = np.random.randint(1,1000,100)\n",
        "print(' mean','\\n',np.mean(x),'\\n',\n",
        "      'median','\\n',np.median(x),'\\n',\n",
        "      'standard deviation','\\n',np.std(x))"
      ],
      "execution_count": 86,
      "outputs": [
        {
          "output_type": "stream",
          "text": [
            " mean \n",
            " 514.12 \n",
            " median \n",
            " 485.5 \n",
            " standard deviation \n",
            " 251.06430570672526\n"
          ],
          "name": "stdout"
        }
      ]
    },
    {
      "cell_type": "markdown",
      "metadata": {
        "id": "-0fw02RkD1RR",
        "colab_type": "text"
      },
      "source": [
        "### 8. Normalize a 5x5 random matrix"
      ]
    },
    {
      "cell_type": "code",
      "metadata": {
        "id": "oSwLkTOeD4CY",
        "colab_type": "code",
        "colab": {
          "base_uri": "https://localhost:8080/",
          "height": 119
        },
        "outputId": "1a4e8aae-94be-490f-a51e-a4827052b87d"
      },
      "source": [
        "from sklearn.preprocessing import normalize\n",
        "x = np.random.randint(1,1000,25).reshape((5,5))\n",
        "print('Normalize a 5x5 random matrix from 1 to 1000', '\\n',normalize(x))"
      ],
      "execution_count": 90,
      "outputs": [
        {
          "output_type": "stream",
          "text": [
            "Normalize a 5x5 random matrix from 1 to 1000 \n",
            " [[0.42555673 0.26636934 0.27144304 0.5841099  0.57713356]\n",
            " [0.00898382 0.72469444 0.64683471 0.23732246 0.00449191]\n",
            " [0.58708851 0.30586743 0.50809382 0.38549407 0.39370952]\n",
            " [0.41824567 0.12246973 0.71171087 0.55072865 0.015405  ]\n",
            " [0.39401121 0.33984559 0.42808313 0.64037741 0.36867567]]\n"
          ],
          "name": "stdout"
        }
      ]
    },
    {
      "cell_type": "markdown",
      "metadata": {
        "id": "3d7iwDFYEfet",
        "colab_type": "text"
      },
      "source": [
        "### 9. Consider an array of dimension (4,4,3), how to mulitply it by an array with dimensions (4,4)?"
      ]
    },
    {
      "cell_type": "code",
      "metadata": {
        "id": "I4Sh2HyTEiTz",
        "colab_type": "code",
        "colab": {
          "base_uri": "https://localhost:8080/",
          "height": 731
        },
        "outputId": "6306989d-8971-4314-d80e-13c62623baea"
      },
      "source": [
        "x = np.random.randint(1,10,(4,4,3))\n",
        "y = np.random.randint(1,10,(4,4))\n",
        "print(x,'\\n',y)\n",
        "x*y[:,:,None]\n"
      ],
      "execution_count": 121,
      "outputs": [
        {
          "output_type": "stream",
          "text": [
            "[[[2 1 1]\n",
            "  [5 3 5]\n",
            "  [5 5 2]\n",
            "  [2 1 8]]\n",
            "\n",
            " [[9 4 9]\n",
            "  [2 4 3]\n",
            "  [9 9 8]\n",
            "  [8 4 4]]\n",
            "\n",
            " [[4 7 1]\n",
            "  [3 6 2]\n",
            "  [6 8 7]\n",
            "  [7 8 4]]\n",
            "\n",
            " [[8 5 6]\n",
            "  [4 9 1]\n",
            "  [2 3 2]\n",
            "  [6 3 5]]] \n",
            " [[3 2 1 7]\n",
            " [4 4 9 8]\n",
            " [4 9 6 8]\n",
            " [6 5 5 5]]\n"
          ],
          "name": "stdout"
        },
        {
          "output_type": "execute_result",
          "data": {
            "text/plain": [
              "array([[[ 6,  3,  3],\n",
              "        [10,  6, 10],\n",
              "        [ 5,  5,  2],\n",
              "        [14,  7, 56]],\n",
              "\n",
              "       [[36, 16, 36],\n",
              "        [ 8, 16, 12],\n",
              "        [81, 81, 72],\n",
              "        [64, 32, 32]],\n",
              "\n",
              "       [[16, 28,  4],\n",
              "        [27, 54, 18],\n",
              "        [36, 48, 42],\n",
              "        [56, 64, 32]],\n",
              "\n",
              "       [[48, 30, 36],\n",
              "        [20, 45,  5],\n",
              "        [10, 15, 10],\n",
              "        [30, 15, 25]]])"
            ]
          },
          "metadata": {
            "tags": []
          },
          "execution_count": 121
        }
      ]
    },
    {
      "cell_type": "code",
      "metadata": {
        "id": "-UcNPwT9CIcE",
        "colab_type": "code",
        "colab": {}
      },
      "source": [
        "\n"
      ],
      "execution_count": 0,
      "outputs": []
    }
  ]
}