{
  "nbformat": 4,
  "nbformat_minor": 0,
  "metadata": {
    "colab": {
      "name": "Copy of Exercise_3_RNN",
      "provenance": [],
      "include_colab_link": true
    },
    "kernelspec": {
      "name": "python3",
      "display_name": "Python 3"
    }
  },
  "cells": [
    {
      "cell_type": "markdown",
      "metadata": {
        "id": "view-in-github",
        "colab_type": "text"
      },
      "source": [
        "<a href=\"https://colab.research.google.com/github/ppunkz/CE888_DS/blob/master/Lab%207/Exercise_3_RNN.ipynb\" target=\"_parent\"><img src=\"https://colab.research.google.com/assets/colab-badge.svg\" alt=\"Open In Colab\"/></a>"
      ]
    },
    {
      "cell_type": "code",
      "metadata": {
        "id": "zd8ZKT5UJnzA",
        "colab_type": "code",
        "outputId": "e5fff7ae-c002-40e5-9d64-3413be4b239d",
        "colab": {
          "base_uri": "https://localhost:8080/",
          "height": 34
        }
      },
      "source": [
        "import keras\n",
        "keras.__version__"
      ],
      "execution_count": 0,
      "outputs": [
        {
          "output_type": "execute_result",
          "data": {
            "text/plain": [
              "'2.2.5'"
            ]
          },
          "metadata": {
            "tags": []
          },
          "execution_count": 7
        }
      ]
    },
    {
      "cell_type": "code",
      "metadata": {
        "id": "n5kPs3B2Jxk1",
        "colab_type": "code",
        "outputId": "e810e6cc-4303-436c-9334-bc87a412a699",
        "colab": {
          "base_uri": "https://localhost:8080/",
          "height": 34
        }
      },
      "source": [
        "from keras.preprocessing.text import Tokenizer\n",
        "samples = ['The cat sat on the mat.', 'The dog ate my homework.']\n",
        "\n",
        "# We create a tokenizer, configured to only take into account the top-1000 most common words\n",
        "tokenizer = Tokenizer(num_words=1000)\n",
        "\n",
        "# This builds the word index\n",
        "tokenizer.fit_on_texts(samples)\n",
        "\n",
        "# This turns strings into lists of integer indices.\n",
        "sequences = tokenizer.texts_to_sequences(samples)\n",
        "\n",
        "# You could also directly get the one-hot binary representations.\n",
        "# Note that other vectorization modes than one-hot encoding are supported!\n",
        "one_hot_results = tokenizer.texts_to_matrix(samples, mode='binary')\n",
        "\n",
        "# This is how you can recover the word index that was computed\n",
        "word_index = tokenizer.word_index\n",
        "print('Found %s unique tokens.' % len(word_index))"
      ],
      "execution_count": 0,
      "outputs": [
        {
          "output_type": "stream",
          "text": [
            "Found 9 unique tokens.\n"
          ],
          "name": "stdout"
        }
      ]
    },
    {
      "cell_type": "code",
      "metadata": {
        "id": "1wxd61JeJzMO",
        "colab_type": "code",
        "outputId": "92384c1d-affa-40d0-d5a8-87bcfbb58683",
        "colab": {
          "base_uri": "https://localhost:8080/",
          "height": 51
        }
      },
      "source": [
        "one_hot_results"
      ],
      "execution_count": 0,
      "outputs": [
        {
          "output_type": "execute_result",
          "data": {
            "text/plain": [
              "array([[0., 1., 1., ..., 0., 0., 0.],\n",
              "       [0., 1., 0., ..., 0., 0., 0.]])"
            ]
          },
          "metadata": {
            "tags": []
          },
          "execution_count": 9
        }
      ]
    },
    {
      "cell_type": "code",
      "metadata": {
        "id": "2smncsRaJ1Mn",
        "colab_type": "code",
        "outputId": "bceb6f01-a38e-46fa-ca1a-c951c6fcfa13",
        "colab": {
          "base_uri": "https://localhost:8080/",
          "height": 119
        }
      },
      "source": [
        "from keras.datasets import imdb\n",
        "from keras.preprocessing import sequence\n",
        "\n",
        "max_features = 10000\n",
        "maxlen = 500\n",
        "batch_size = 32\n",
        "print('Loading data...')\n",
        "(input_train, y_train), (input_test, y_test) = imdb.load_data(num_words=max_features)\n",
        "print(len(input_train), 'train sequences')\n",
        "print(len(input_test), 'test sequences')\n",
        "print('Pad sequences (samples x time)')\n",
        "input_train = sequence.pad_sequences(input_train, maxlen=maxlen)\n",
        "input_test = sequence.pad_sequences(input_test, maxlen=maxlen)\n",
        "print('input_train shape:', input_train.shape)\n",
        "print('input_test shape:', input_test.shape)"
      ],
      "execution_count": 0,
      "outputs": [
        {
          "output_type": "stream",
          "text": [
            "Loading data...\n",
            "25000 train sequences\n",
            "25000 test sequences\n",
            "Pad sequences (samples x time)\n",
            "input_train shape: (25000, 500)\n",
            "input_test shape: (25000, 500)\n"
          ],
          "name": "stdout"
        }
      ]
    },
    {
      "cell_type": "markdown",
      "metadata": {
        "id": "JrZx4FhNJ-QN",
        "colab_type": "text"
      },
      "source": [
        "#**Training the model with Embedding and SimpleRNN layers**"
      ]
    },
    {
      "cell_type": "code",
      "metadata": {
        "id": "vwhPSNdQJ29k",
        "colab_type": "code",
        "outputId": "0e800bf2-58f1-4b78-9175-3fc4f0311af7",
        "colab": {
          "base_uri": "https://localhost:8080/",
          "height": 612
        }
      },
      "source": [
        "from keras.layers import Dense\n",
        "from keras.layers import Embedding, SimpleRNN\n",
        "from keras.models import Sequential\n",
        "model = Sequential()\n",
        "model.add(Embedding(max_features, 32))\n",
        "model.add(SimpleRNN(32))\n",
        "model.add(Dense(1, activation='sigmoid'))\n",
        "model.summary()\n",
        "model.compile(optimizer='rmsprop', loss='binary_crossentropy', metrics=['acc'])\n",
        "history = model.fit(input_train, y_train, \n",
        "                    epochs=10,\n",
        "                    batch_size=128,\n",
        "                    validation_split=0.2)"
      ],
      "execution_count": 0,
      "outputs": [
        {
          "output_type": "stream",
          "text": [
            "Model: \"sequential_2\"\n",
            "_________________________________________________________________\n",
            "Layer (type)                 Output Shape              Param #   \n",
            "=================================================================\n",
            "embedding_2 (Embedding)      (None, None, 32)          320000    \n",
            "_________________________________________________________________\n",
            "simple_rnn_2 (SimpleRNN)     (None, 32)                2080      \n",
            "_________________________________________________________________\n",
            "dense_2 (Dense)              (None, 1)                 33        \n",
            "=================================================================\n",
            "Total params: 322,113\n",
            "Trainable params: 322,113\n",
            "Non-trainable params: 0\n",
            "_________________________________________________________________\n",
            "Train on 20000 samples, validate on 5000 samples\n",
            "Epoch 1/10\n",
            "20000/20000 [==============================] - 21s 1ms/step - loss: 0.6019 - acc: 0.6689 - val_loss: 0.4213 - val_acc: 0.8194\n",
            "Epoch 2/10\n",
            "20000/20000 [==============================] - 21s 1ms/step - loss: 0.3752 - acc: 0.8423 - val_loss: 0.3520 - val_acc: 0.8528\n",
            "Epoch 3/10\n",
            "20000/20000 [==============================] - 21s 1ms/step - loss: 0.2803 - acc: 0.8895 - val_loss: 0.3409 - val_acc: 0.8616\n",
            "Epoch 4/10\n",
            "20000/20000 [==============================] - 21s 1ms/step - loss: 0.2197 - acc: 0.9166 - val_loss: 0.3683 - val_acc: 0.8452\n",
            "Epoch 5/10\n",
            "20000/20000 [==============================] - 21s 1ms/step - loss: 0.1605 - acc: 0.9416 - val_loss: 0.4370 - val_acc: 0.8218\n",
            "Epoch 6/10\n",
            "20000/20000 [==============================] - 21s 1ms/step - loss: 0.1156 - acc: 0.9603 - val_loss: 0.4910 - val_acc: 0.8124\n",
            "Epoch 7/10\n",
            "20000/20000 [==============================] - 21s 1ms/step - loss: 0.0758 - acc: 0.9754 - val_loss: 0.5785 - val_acc: 0.8268\n",
            "Epoch 8/10\n",
            "20000/20000 [==============================] - 21s 1ms/step - loss: 0.0505 - acc: 0.9842 - val_loss: 0.4962 - val_acc: 0.8394\n",
            "Epoch 9/10\n",
            "20000/20000 [==============================] - 22s 1ms/step - loss: 0.0310 - acc: 0.9910 - val_loss: 0.6241 - val_acc: 0.8122\n",
            "Epoch 10/10\n",
            "20000/20000 [==============================] - 21s 1ms/step - loss: 0.0269 - acc: 0.9919 - val_loss: 0.6795 - val_acc: 0.7932\n"
          ],
          "name": "stdout"
        }
      ]
    },
    {
      "cell_type": "code",
      "metadata": {
        "id": "GtfvxgwgJ4wC",
        "colab_type": "code",
        "outputId": "ccba61a1-4a05-4e0c-87cc-5ba881d891e4",
        "colab": {
          "base_uri": "https://localhost:8080/",
          "height": 545
        }
      },
      "source": [
        "import matplotlib.pyplot as plt\n",
        "\n",
        "acc = history.history['acc']\n",
        "val_acc = history.history['val_acc']\n",
        "loss = history.history['loss']\n",
        "val_loss = history.history['val_loss']\n",
        "\n",
        "epochs = range(1, len(acc) + 1)\n",
        "\n",
        "plt.plot(epochs, acc, 'bo', label='Training acc')\n",
        "plt.plot(epochs, val_acc, 'b', label='Validation acc')\n",
        "plt.title('Training and validation accuracy')\n",
        "plt.legend()\n",
        "\n",
        "plt.figure()\n",
        "\n",
        "plt.plot(epochs, loss, 'bo', label='Training loss')\n",
        "plt.plot(epochs, val_loss, 'b', label='Validation loss')\n",
        "plt.title('Training and validation loss')\n",
        "plt.legend()\n",
        "\n",
        "plt.show()"
      ],
      "execution_count": 0,
      "outputs": [
        {
          "output_type": "display_data",
          "data": {
            "image/png": "[encoded data removed]",
            "text/plain": [
              "<Figure size 432x288 with 1 Axes>"
            ]
          },
          "metadata": {
            "tags": []
          }
        },
        {
          "output_type": "display_data",
          "data": {
            "image/png": "[encoded data removed]",
            "text/plain": [
              "<Figure size 432x288 with 1 Axes>"
            ]
          },
          "metadata": {
            "tags": []
          }
        }
      ]
    },
    {
      "cell_type": "markdown",
      "metadata": {
        "id": "QVtapY3tKD2M",
        "colab_type": "text"
      },
      "source": [
        "#**Training the model with Embedding and SimpleRNN layers**"
      ]
    },
    {
      "cell_type": "code",
      "metadata": {
        "id": "B0mE8hEmKFz8",
        "colab_type": "code",
        "outputId": "e4e662a6-106d-46b6-d286-d025db414c73",
        "colab": {
          "base_uri": "https://localhost:8080/",
          "height": 374
        }
      },
      "source": [
        "from keras.layers import LSTM\n",
        "\n",
        "model = Sequential()\n",
        "model.add(Embedding(max_features, 32))\n",
        "model.add(LSTM(32))\n",
        "model.add(Dense(1, activation='sigmoid'))\n",
        "model.compile(optimizer='rmsprop',\n",
        "loss='binary_crossentropy',\n",
        "metrics=['acc'])\n",
        "history = model.fit(input_train, y_train,\n",
        "                    epochs=10,\n",
        "                    batch_size=128,\n",
        "                    validation_split=0.2)"
      ],
      "execution_count": 0,
      "outputs": [
        {
          "output_type": "stream",
          "text": [
            "Train on 20000 samples, validate on 5000 samples\n",
            "Epoch 1/10\n",
            "20000/20000 [==============================] - 95s 5ms/step - loss: 0.4993 - acc: 0.7695 - val_loss: 0.3535 - val_acc: 0.8534\n",
            "Epoch 2/10\n",
            "20000/20000 [==============================] - 93s 5ms/step - loss: 0.2992 - acc: 0.8823 - val_loss: 0.3063 - val_acc: 0.8772\n",
            "Epoch 3/10\n",
            "20000/20000 [==============================] - 93s 5ms/step - loss: 0.2349 - acc: 0.9118 - val_loss: 0.3126 - val_acc: 0.8634\n",
            "Epoch 4/10\n",
            "20000/20000 [==============================] - 94s 5ms/step - loss: 0.2007 - acc: 0.9270 - val_loss: 0.2967 - val_acc: 0.8836\n",
            "Epoch 5/10\n",
            "20000/20000 [==============================] - 92s 5ms/step - loss: 0.1740 - acc: 0.9375 - val_loss: 0.3898 - val_acc: 0.8656\n",
            "Epoch 6/10\n",
            "20000/20000 [==============================] - 91s 5ms/step - loss: 0.1549 - acc: 0.9447 - val_loss: 0.4188 - val_acc: 0.8784\n",
            "Epoch 7/10\n",
            "20000/20000 [==============================] - 94s 5ms/step - loss: 0.1449 - acc: 0.9474 - val_loss: 0.3227 - val_acc: 0.8882\n",
            "Epoch 8/10\n",
            "20000/20000 [==============================] - 94s 5ms/step - loss: 0.1307 - acc: 0.9526 - val_loss: 0.4217 - val_acc: 0.8650\n",
            "Epoch 9/10\n",
            "20000/20000 [==============================] - 91s 5ms/step - loss: 0.1224 - acc: 0.9572 - val_loss: 0.3276 - val_acc: 0.8726\n",
            "Epoch 10/10\n",
            "20000/20000 [==============================] - 89s 4ms/step - loss: 0.1141 - acc: 0.9593 - val_loss: 0.4476 - val_acc: 0.8338\n"
          ],
          "name": "stdout"
        }
      ]
    },
    {
      "cell_type": "code",
      "metadata": {
        "id": "ITqxD5_PKHn-",
        "colab_type": "code",
        "outputId": "a9ace8cf-2f25-4f38-ecfd-63e11c0ea1d6",
        "colab": {
          "base_uri": "https://localhost:8080/",
          "height": 545
        }
      },
      "source": [
        "import matplotlib.pyplot as plt\n",
        "\n",
        "acc = history.history['acc']\n",
        "val_acc = history.history['val_acc']\n",
        "loss = history.history['loss']\n",
        "val_loss = history.history['val_loss']\n",
        "\n",
        "epochs = range(1, len(acc) + 1)\n",
        "\n",
        "plt.plot(epochs, acc, 'bo', label='Training acc')\n",
        "plt.plot(epochs, val_acc, 'b', label='Validation acc')\n",
        "plt.title('Training and validation accuracy')\n",
        "plt.legend()\n",
        "\n",
        "plt.figure()\n",
        "\n",
        "plt.plot(epochs, loss, 'bo', label='Training loss')\n",
        "plt.plot(epochs, val_loss, 'b', label='Validation loss')\n",
        "plt.title('Training and validation loss')\n",
        "plt.legend()\n",
        "\n",
        "plt.show()"
      ],
      "execution_count": 0,
      "outputs": [
        {
          "output_type": "display_data",
          "data": {
            "image/png": "[encoded data removed]",
            "text/plain": [
              "<Figure size 432x288 with 1 Axes>"
            ]
          },
          "metadata": {
            "tags": []
          }
        },
        {
          "output_type": "display_data",
          "data": {
            "image/png": "[encoded data removed]",
            "text/plain": [
              "<Figure size 432x288 with 1 Axes>"
            ]
          },
          "metadata": {
            "tags": []
          }
        }
      ]
    }
  ]
}